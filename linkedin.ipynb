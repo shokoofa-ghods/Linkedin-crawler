{
 "cells": [
  {
   "cell_type": "code",
   "execution_count": 8,
   "id": "b7dd40a8",
   "metadata": {},
   "outputs": [],
   "source": [
    "from linkedin import Linkedin\n",
    "import json\n",
    "import pysolr\n",
    "from datetime import datetime\n",
    "import pandas as pd\n",
    "from string import ascii_uppercase\n",
    "from random import randint\n",
    "import sys\n",
    "import string\n",
    "from time import sleep"
   ]
  },
  {
   "cell_type": "code",
   "execution_count": 37,
   "id": "31425ee1",
   "metadata": {},
   "outputs": [],
   "source": [
    "Maximum_profile = 5\n",
    "Maximum_search = 20\n",
    "count = 50\n",
    "start = 13\n",
    "## change the range number to the count of total linkedin account\n",
    "search_count_per_acc = {k:0 for k,v in zip(ascii_uppercase,(v for v in range(3)))}\n",
    "profile_count_per_acc = {k:0 for k,v in zip(ascii_uppercase,(v for v in range(3)))}\n",
    "myAcc = ''\n",
    "accounts = None\n",
    "start_profileId = 0\n",
    "region= {\"geoUrn\":'', \"offset\":''}\n",
    "current_region= '102502717'\n",
    "count_change_acc = 0"
   ]
  },
  {
   "cell_type": "code",
   "execution_count": 11,
   "id": "ef6f8a9f",
   "metadata": {},
   "outputs": [],
   "source": [
    "## to index new accounts add the login info into the account.json file\n",
    "def index_acc():\n",
    "    acc_array= []\n",
    "    with open(\"account.json\",\"r\") as f:\n",
    "        accs = json.loads(f.read())\n",
    "        \n",
    "        for acc,letter in zip(accs, ascii_uppercase):\n",
    "            acc_array.append({\"user\": acc['user'],\n",
    "                            \"password\": acc['password'],\n",
    "                            \"AccIdentifier\": letter\n",
    "                             })\n",
    "        \n",
    "    solr = pysolr.Solr(\"http://192.168.4.217:8983/solr/accounts\", always_commit=True, timeout=10)   \n",
    "    solr.add(acc_array)"
   ]
  },
  {
   "cell_type": "code",
   "execution_count": 4,
   "id": "e4792bf2",
   "metadata": {},
   "outputs": [],
   "source": [
    "def querry_acc():\n",
    "    index_acc()\n",
    "    global accounts\n",
    "    solr = pysolr.Solr(\"http://192.168.4.217:8983/solr/accounts\", always_commit=True, timeout=10)\n",
    "\n",
    "    print('accounts info are retrieved')\n",
    "    accounts = solr.search('*').docs"
   ]
  },
  {
   "cell_type": "code",
   "execution_count": 24,
   "id": "06c5edf0",
   "metadata": {},
   "outputs": [],
   "source": [
    "def login(index=0):\n",
    "    global myAcc, count_change_acc\n",
    "    api = Linkedin(accounts[index]['user'], accounts[index]['password'])\n",
    "    myAcc = accounts[index]['AccIdentifier']\n",
    "#     count_change_acc +=1\n",
    "    print('user {} is logged in successfully'.format(myAcc))\n",
    "    crawl_profile()"
   ]
  },
  {
   "cell_type": "code",
   "execution_count": 25,
   "id": "7aa20fc7",
   "metadata": {},
   "outputs": [],
   "source": [
    "def change_acc():\n",
    "    index = -1\n",
    "    for i,acc in enumerate(accounts):\n",
    "        if acc['AccIdentifier'] == myAcc:\n",
    "            if i == len(accounts)-1 :\n",
    "                'print all accounts have used their maximum limits'\n",
    "                sys.exit()\n",
    "            else:\n",
    "                index= i\n",
    "#     if count_change_acc == len(accounts):\n",
    "#         'print all accounts have used their maximum limits'\n",
    "#         sys.exit()\n",
    "        \n",
    "    login(index+1)"
   ]
  },
  {
   "cell_type": "code",
   "execution_count": null,
   "id": "57f1cdd6",
   "metadata": {},
   "outputs": [],
   "source": []
  },
  {
   "cell_type": "code",
   "execution_count": 26,
   "id": "e22d738d",
   "metadata": {},
   "outputs": [],
   "source": [
    "def index_profiles_id(profiles_id):\n",
    "    data = list()\n",
    "    for i in profiles_id:\n",
    "        data.append(dict({\"id\": i['urn_id'],\n",
    "            \"distance\": i['distance'],\n",
    "            \"public_id\": i['public_id'],\n",
    "            \"tracking_id\": i['tracking_id']\n",
    "            }))\n",
    "    \n",
    "    solr = pysolr.Solr(\"http://192.168.4.217:8983/solr/profileId/\", always_commit=True, timeout=10)\n",
    "    solr.add(data)\n",
    "    print('profile_ids have successfully indexed')\n"
   ]
  },
  {
   "cell_type": "code",
   "execution_count": 27,
   "id": "62199fba",
   "metadata": {
    "scrolled": true
   },
   "outputs": [],
   "source": [
    "def index_profile(profile):\n",
    "    solr = pysolr.Solr('http://192.168.4.217:8983/solr/person',always_commit=True, timeout=10) \n",
    "    solr.add(profile)\n",
    "    print('profile info has successfully indexed')"
   ]
  },
  {
   "cell_type": "code",
   "execution_count": 68,
   "id": "7899e6de",
   "metadata": {},
   "outputs": [],
   "source": [
    "def index_region(profile):\n",
    "    try:\n",
    "        solr = pysolr.Solr(\"http://192.168.4.217:8983/solr/region\", always_commit=True,  timeout=100)\n",
    "        solr.add([{\"geoLocationName\": profile['geoLocationName'],\n",
    "                   \"geoLocation\":  profile['geoLocation']['geoUrn'].split(':')[3], \n",
    "                   \"offset\" : \"0\"\n",
    "                 }])\n",
    "        print('geoLocation has successfully indexed')\n",
    "        \n",
    "    except:\n",
    "        print(\"geoLocation is not available for this user\")"
   ]
  },
  {
   "cell_type": "code",
   "execution_count": 48,
   "id": "15959254",
   "metadata": {},
   "outputs": [],
   "source": [
    "def data_processing(profile):\n",
    "    if profile['education'] is not None:\n",
    "        for i in range(len(profile['education'])):\n",
    "            unwanted = set(profile['education'][i].keys()) - set(['fieldOfStudy','schoolName','deegreName'])\n",
    "            for uw in unwanted: profile['education'][i].pop(uw)\n",
    "    if profile['experience'] is not None:\n",
    "        for i in range(len(profile['experience'])):\n",
    "            unwanted = set(profile['experience'][i].keys()) - set(['companyName','title'])\n",
    "            for uw in unwanted: profile['experience'][i].pop(uw)\n",
    "    if profile['publications'] is not None:\n",
    "        for i in range(len(profile['publications'])):\n",
    "            unwanted = set(profile['publications'][i].keys()) - set(['date', 'name', 'publisher','description'])\n",
    "            for uw in unwanted: profile['publications'][i].pop(uw)\n",
    "    if profile['certifications'] is not None:\n",
    "        for i in range(len(profile['certifications'])):\n",
    "            unwanted = set(profile['certifications'][i].keys()) - set(['authority', 'name'])\n",
    "            for uw in unwanted: profile['certifications'][i].pop(uw)\n",
    "    try:\n",
    "        if profile['birthDate'] is not None:\n",
    "             profile['birthDate'] = (json.dumps(profile['birthDate']))\n",
    "    except:\n",
    "        pass\n",
    "    if profile['geoLocation'] is not None:\n",
    "         profile['geoLocation'] = (json.dumps(profile['geoLocation']))\n",
    "    if profile['location'] is not None:\n",
    "         profile['location'] = (json.dumps(profile['location']))\n",
    "\n",
    "    profile['date'] = datetime.now().isoformat(timespec='seconds') + \"Z\"\n",
    "    \n",
    "    for k in profile:\n",
    "        if type(profile[k])== type([]) and len(profile[k]) == 1 :\n",
    "            profile[k].append({})\n",
    "            \n",
    "    print(\"profile data has been successfully processed\")\n",
    "    return [profile]"
   ]
  },
  {
   "cell_type": "code",
   "execution_count": null,
   "id": "3632ef04",
   "metadata": {},
   "outputs": [],
   "source": [
    "\n"
   ]
  },
  {
   "cell_type": "code",
   "execution_count": 30,
   "id": "dc2d5aa3",
   "metadata": {},
   "outputs": [],
   "source": [
    "def querry_region():\n",
    "    solr = pysolr.Solr(\"http://192.168.4.217:8983/solr/region\", always_commit=True,  timeout=10)\n",
    "    return solr.search('*').docs"
   ]
  },
  {
   "cell_type": "code",
   "execution_count": 31,
   "id": "eea7e868",
   "metadata": {},
   "outputs": [],
   "source": [
    "def crawl_profile_ids():\n",
    "    global region, current_region, search_count_per_acc\n",
    "    offset= 0\n",
    "    \n",
    "    print('enetered crawl_profile function')\n",
    "    regions = querry_region()\n",
    "    print('list of regions have been retrieved')\n",
    "    while search_count_per_acc[myAcc] <= Maximum_search:\n",
    "        \n",
    "        ## check for the offset\n",
    "        if current_region in regions:\n",
    "                offset = region[current_region]\n",
    "        else:\n",
    "                offset= 0\n",
    "    \n",
    "        profiles_id = api.search_people(regions= [current_region], offset= offset, limit= 20)\n",
    "        print('{} profile ids are retirieved through linkedin api'.format(len(profiles_id)) )\n",
    "        if len(profiles_id) == limit:\n",
    "            offset += limit\n",
    "        else:\n",
    "            region[current_region] = offset\n",
    "            current_region = regions[(randint(0,len(regions)))]['geoLocation']\n",
    "            print('search region has changed')\n",
    "            \n",
    "        search_count_per_acc[myAcc] = len(profiles_id)\n",
    "        index_profiles_id(profiles_id)\n",
    "        print('program slept')\n",
    "        sleep(randint(5,20))\n",
    "        print('program has been awaken up')\n",
    "        \n",
    "    print('user account must be changed')\n",
    "    change_acc()"
   ]
  },
  {
   "cell_type": "code",
   "execution_count": 32,
   "id": "2b7b2315",
   "metadata": {},
   "outputs": [],
   "source": [
    "def querry_profileId(count = 10):\n",
    "    global start_profileId\n",
    "    profileIds = list()\n",
    "    solr = pysolr.Solr('http://192.168.4.217:8983/solr/profileId', always_commit=True, timeout=10)\n",
    "    data = solr.search('*:*', rows=count, start= start_profileId).docs\n",
    "    if len(data) == count:\n",
    "        start_profileId += count\n",
    "    else:\n",
    "        print('more profileIds are needed')\n",
    "        start_profileId += len(data)\n",
    "        crawl_profile_ids()\n",
    "        \n",
    "\n",
    "    for i in data:\n",
    "        profileIds.append(i['public_id'])\n",
    "        \n",
    "    return profileIds"
   ]
  },
  {
   "cell_type": "code",
   "execution_count": null,
   "id": "5a429fcc",
   "metadata": {},
   "outputs": [],
   "source": []
  },
  {
   "cell_type": "code",
   "execution_count": 38,
   "id": "218c1cd4",
   "metadata": {
    "scrolled": false
   },
   "outputs": [],
   "source": [
    "def crawl_profile():\n",
    "    global profile_count_per_acc\n",
    "    \n",
    "    print('enetered crawl_profile function')\n",
    "    while profile_count_per_acc[myAcc] <= Maximum_profile:\n",
    "        ids= querry_profileId(5)\n",
    "        print('profile ids are retrieved')\n",
    "        for id in ids:\n",
    "            try:\n",
    "                profile = api.get_profile(id)\n",
    "                print('one profile data has fetched through linkedin API')\n",
    "                index_region(profile)\n",
    "                processed_profile = data_processing(profile)\n",
    "                sleep(2)\n",
    "                print(processed_profile)\n",
    "                index_profile(processed_profile)\n",
    "                profile_count_per_acc[myAcc] += 1\n",
    "                print('program slept')\n",
    "                sleep(randint(5,20))\n",
    "                print('program has waken up')\n",
    "            except:\n",
    "                print('profile not requested')\n",
    "                pass\n",
    "            \n",
    "    print('user account must be changed')\n",
    "    sys.exit()\n",
    "    change_acc()"
   ]
  },
  {
   "cell_type": "code",
   "execution_count": 39,
   "id": "2f67922d",
   "metadata": {
    "scrolled": true
   },
   "outputs": [
    {
     "name": "stderr",
     "output_type": "stream",
     "text": [
      "INFO:pysolr:Finished 'http://192.168.4.217:8983/solr/accounts/update/?commit=true' (post) with body '[{\"user\": ' in 0.748 seconds, with status 200\n",
      "INFO:pysolr:Finished 'http://192.168.4.217:8983/solr/accounts/select/?q=%2A&wt=json' (get) with body '' in 0.090 seconds, with status 200\n"
     ]
    },
    {
     "name": "stdout",
     "output_type": "stream",
     "text": [
      "accounts info are retrieved\n"
     ]
    },
    {
     "name": "stderr",
     "output_type": "stream",
     "text": [
      "INFO:pysolr:Finished 'http://192.168.4.217:8983/solr/profileId/select/?q=%2A%3A%2A&rows=5&start=0&wt=json' (get) with body '' in 0.101 seconds, with status 200\n"
     ]
    },
    {
     "name": "stdout",
     "output_type": "stream",
     "text": [
      "user A is logged in successfully\n",
      "enetered crawl_profile function\n",
      "profile ids are retrieved\n",
      "one profile data has fetched through linkedin API\n"
     ]
    },
    {
     "name": "stderr",
     "output_type": "stream",
     "text": [
      "INFO:pysolr:Finished 'http://192.168.4.217:8983/solr/region/update/?commit=true' (post) with body '[{\"geoLoca' in 0.578 seconds, with status 200\n"
     ]
    },
    {
     "name": "stdout",
     "output_type": "stream",
     "text": [
      "geoLocation has successfully indexed\n",
      "profile data has been successfully processed\n"
     ]
    },
    {
     "name": "stderr",
     "output_type": "stream",
     "text": [
      "INFO:pysolr:Finished 'http://192.168.4.217:8983/solr/person/update/?commit=true' (post) with body '[{\"summary' in 0.143 seconds, with status 400\n",
      "ERROR:pysolr:Solr responded with an error (HTTP 400): [Reason: Error:[doc=f03a00cb-6808-4038-864d-d33a8f442b7f]  Unknown operation for the an atomic update: month]\n"
     ]
    },
    {
     "name": "stdout",
     "output_type": "stream",
     "text": [
      "[{'summary': 'Experienced Public Relations Manager with a demonstrated history of working in the public relations and communications industry. Skilled in Microsoft Word, Journalism, Media Relations, Corporate Communications, and Microsoft Excel. Strong media and communication professional with a Doctor of Philosophy (PhD) focused in Communication and Media Studies from Islamic Azad University. ', 'industryName': 'Public Relations', 'lastName': 'Zabeh Jamshidi', 'locationName': 'Iran', 'student': False, 'geoCountryName': 'Iran', 'geoCountryUrn': 'urn:li:fs_geo:101934083', 'geoLocationBackfilled': False, 'elt': False, 'birthDate': {'month': 12, 'day': 16}, 'industryUrn': 'urn:li:fs_industry:98', 'firstName': 'Sara', 'entityUrn': 'urn:li:fs_profile:ACoAAA6x8RcBEvMMi_RL-UZ7ci7YE5vPjUphzrQ', 'geoLocation': '{\"geoUrn\": \"urn:li:fs_geo:103186832\"}', 'geoLocationName': 'Tehran', 'location': '{\"basicLocation\": {\"countryCode\": \"ir\"}}', 'headline': 'Looking for new job', 'displayPictureUrl': 'https://media-exp1.licdn.com/dms/image/C4E03AQGAV1n5UJIP1w/profile-displayphoto-shrink_', 'img_100_100': '100_100/0/1613232903605?e=1648080000&v=beta&t=-HcAEF6XFiCzfGz8RVtcYvWQG8RWTxrmHTPrQYDxLH0', 'img_200_200': '200_200/0/1613232903605?e=1648080000&v=beta&t=69_LGKqEipGXlowvlR0l5-kz9G5S_uDJrce8_l6_RVw', 'img_400_400': '400_400/0/1613232903605?e=1648080000&v=beta&t=kLuEDbd4s6tZk28G7eKm79B08EhpJZ5YqpGlhTqAMMA', 'img_800_800': '800_800/0/1613232903605?e=1648080000&v=beta&t=T95gdAhmduVg-Om-PWj5jDXsyy3NcmlY044x6tjUSN4', 'profile_id': 'ACoAAA6x8RcBEvMMi_RL-UZ7ci7YE5vPjUphzrQ', 'profile_urn': 'urn:li:fs_miniProfile:ACoAAA6x8RcBEvMMi_RL-UZ7ci7YE5vPjUphzrQ', 'member_urn': 'urn:li:member:246542615', 'experience': [{'companyName': 'Khwarizmi Technology Development Company', 'title': 'Head Of Marketing'}, {'companyName': 'AROOS manufacturing industry ', 'title': 'Brand Manager'}, {'companyName': 'IranCard - ایران کارت', 'title': 'Public Relations Manager'}, {'companyName': 'union of homeware', 'title': 'PR Manager'}, {'companyName': 'biznews', 'title': 'PR Manager'}], 'education': [{'schoolName': 'Islamic Azad University', 'fieldOfStudy': 'Communication and Media Studies'}, {'schoolName': 'islamic azad university', 'fieldOfStudy': 'Public Relations/communication'}, {'schoolName': 'Islamic Azad University', 'fieldOfStudy': 'Public Relations, Advertising, and Applied Communication'}], 'languages': [{'name': 'English', 'proficiency': 'ELEMENTARY'}, {}], 'publications': [{'name': 'culture & ICT', 'publisher': 'مطالعات رسانه'}, {}], 'certifications': [], 'volunteer': [], 'honors': [], 'date': '2022-01-22T00:38:07Z'}]\n",
      "profile not requested\n",
      "one profile data has fetched through linkedin API\n"
     ]
    },
    {
     "name": "stderr",
     "output_type": "stream",
     "text": [
      "INFO:pysolr:Finished 'http://192.168.4.217:8983/solr/region/update/?commit=true' (post) with body '[{\"geoLoca' in 0.595 seconds, with status 200\n"
     ]
    },
    {
     "name": "stdout",
     "output_type": "stream",
     "text": [
      "geoLocation has successfully indexed\n",
      "profile data has been successfully processed\n",
      "[{'industryName': 'Marketing & Advertising', 'lastName': 'Ahmadinia', 'locationName': 'Iran', 'student': False, 'geoCountryName': 'Iran', 'geoCountryUrn': 'urn:li:fs_geo:101934083', 'geoLocationBackfilled': False, 'elt': False, 'industryUrn': 'urn:li:fs_industry:80', 'firstName': 'Radena', 'entityUrn': 'urn:li:fs_profile:ACoAADM8KJoBGXFMdPwRh20bTRdKJiZ8-19MT5E', 'geoLocation': '{\"geoUrn\": \"urn:li:fs_geo:106447486\"}', 'geoLocationName': 'Tehran, Tehran', 'location': '{\"basicLocation\": {\"countryCode\": \"ir\"}}', 'headline': 'Media specialist', 'displayPictureUrl': 'https://media-exp1.licdn.com/dms/image/C4D03AQHZD-K5PWY5HQ/profile-displayphoto-shrink_', 'img_100_100': '100_100/0/1605520237755?e=1648080000&v=beta&t=PGG1eYDK_pUoPDLqYF9D04qjQYP8sIR_jtj_JKAcUzg', 'img_200_200': '200_200/0/1605520237755?e=1648080000&v=beta&t=U_9GasrCNlZQPGc1zo-y96p3vOGug4xTTIAPy6zyCuM', 'img_400_400': '400_400/0/1605520237755?e=1648080000&v=beta&t=BYiZhn4-B3zYL3MqwaO4Sl-ab_ZvORh_QWzwjslRhsE', 'img_800_800': '800_800/0/1605520237755?e=1648080000&v=beta&t=MN_NY1ZtnGVV2YPzSVRtJQ1ccceB9noyHa-g_6CknkU', 'profile_id': 'ACoAADM8KJoBGXFMdPwRh20bTRdKJiZ8-19MT5E', 'profile_urn': 'urn:li:fs_miniProfile:ACoAADM8KJoBGXFMdPwRh20bTRdKJiZ8-19MT5E', 'member_urn': 'urn:li:member:859580570', 'experience': [{'companyName': 'Macan Digital Marketing Agency', 'title': 'Media Specialist'}, {'companyName': 'Freelance', 'title': 'Interpreter'}, {'companyName': 'Motamed advertising agency', 'title': 'Content Producer'}], 'education': [{'schoolName': 'Islamic Azad University Central Tehran Branch', 'fieldOfStudy': 'Psychology'}, {}], 'languages': [], 'publications': [], 'certifications': [], 'volunteer': [], 'honors': [], 'date': '2022-01-22T00:38:13Z'}]\n"
     ]
    },
    {
     "name": "stderr",
     "output_type": "stream",
     "text": [
      "INFO:pysolr:Finished 'http://192.168.4.217:8983/solr/person/update/?commit=true' (post) with body '[{\"industr' in 1.156 seconds, with status 200\n"
     ]
    },
    {
     "name": "stdout",
     "output_type": "stream",
     "text": [
      "profile info has successfully indexed\n",
      "program slept\n",
      "program has waken up\n",
      "one profile data has fetched through linkedin API\n"
     ]
    },
    {
     "name": "stderr",
     "output_type": "stream",
     "text": [
      "INFO:pysolr:Finished 'http://192.168.4.217:8983/solr/region/update/?commit=true' (post) with body '[{\"geoLoca' in 0.780 seconds, with status 200\n"
     ]
    },
    {
     "name": "stdout",
     "output_type": "stream",
     "text": [
      "geoLocation has successfully indexed\n",
      "profile data has been successfully processed\n",
      "[{'summary': \"I love to learn new things especially in software fields. I'm curious to find something more valuable for my future. And also I really want to contribute to developing sustainable products that can be used globally\", 'industryName': 'Computer Software', 'lastName': 'Fereydooni Zade', 'locationName': 'Iran', 'student': False, 'geoCountryName': 'Iran', 'geoCountryUrn': 'urn:li:fs_geo:101934083', 'geoLocationBackfilled': False, 'elt': False, 'industryUrn': 'urn:li:fs_industry:4', 'firstName': 'Nazanin', 'entityUrn': 'urn:li:fs_profile:ACoAACSCj6wBm8qMGJnD0Tlpv1kzwaKxI6cYa6I', 'geoLocation': '{\"geoUrn\": \"urn:li:fs_geo:106447486\"}', 'geoLocationName': 'Tehran, Tehran', 'location': '{\"basicLocation\": {\"countryCode\": \"ir\"}}', 'headline': 'Senior Software Engineer at City development and innovation', 'displayPictureUrl': 'https://media-exp1.licdn.com/dms/image/C4D03AQFV-NQZ48LLIg/profile-displayphoto-shrink_', 'img_100_100': '100_100/0/1588655958843?e=1648080000&v=beta&t=fy-5aQb7bhjuCn7xoOQJpr7aJlvANqfODCpHDkaRJBI', 'img_200_200': '200_200/0/1588655958843?e=1648080000&v=beta&t=_I-zT06a3EJ1rw7QwUpnV2T1a13nZMWC1a_aFQw9dR0', 'img_400_400': '400_400/0/1588655958843?e=1648080000&v=beta&t=OCCeJTY77tSi_TTmWFZYx3GaO_IG5KV5RpF6NGawP-Y', 'img_800_800': '800_800/0/1588655958843?e=1648080000&v=beta&t=AFcbZrmtFOyAew_0xDmmtLzrQ3dmIQhT4tQ4L13gWLU', 'profile_id': 'ACoAACSCj6wBm8qMGJnD0Tlpv1kzwaKxI6cYa6I', 'profile_urn': 'urn:li:fs_miniProfile:ACoAACSCj6wBm8qMGJnD0Tlpv1kzwaKxI6cYa6I', 'member_urn': 'urn:li:member:612536236', 'experience': [{'companyName': 'City Development and Innovation', 'title': 'Senior Software Engineer'}, {'companyName': 'Dokmeh Studio', 'title': 'Software Engineer'}, {'companyName': 'MayadinTehran', 'title': 'Mobile Application Developer'}, {'companyName': 'WOG', 'title': 'Mobile Application Developer'}, {'companyName': 'mobagym', 'title': 'Mobile Application Developer'}], 'education': [{'schoolName': 'Alzahra University', 'fieldOfStudy': 'Computer Software Engineering'}, {'schoolName': 'Alzahra University', 'fieldOfStudy': 'Computer Software Engineering'}], 'languages': [], 'publications': [], 'certifications': [], 'volunteer': [], 'honors': [], 'date': '2022-01-22T00:38:34Z'}]\n"
     ]
    },
    {
     "name": "stderr",
     "output_type": "stream",
     "text": [
      "INFO:pysolr:Finished 'http://192.168.4.217:8983/solr/person/update/?commit=true' (post) with body '[{\"summary' in 0.808 seconds, with status 200\n"
     ]
    },
    {
     "name": "stdout",
     "output_type": "stream",
     "text": [
      "profile info has successfully indexed\n",
      "program slept\n",
      "program has waken up\n",
      "one profile data has fetched through linkedin API\n"
     ]
    },
    {
     "name": "stderr",
     "output_type": "stream",
     "text": [
      "INFO:pysolr:Finished 'http://192.168.4.217:8983/solr/region/update/?commit=true' (post) with body '[{\"geoLoca' in 0.601 seconds, with status 200\n"
     ]
    },
    {
     "name": "stdout",
     "output_type": "stream",
     "text": [
      "geoLocation has successfully indexed\n",
      "profile data has been successfully processed\n",
      "[{'summary': \"I consider myself a 'forever student', and stay in tune with the latest technology through continued coursework.\", 'industryName': 'Computer & Network Security', 'lastName': 'Pasandide', 'locationName': 'Iran', 'student': False, 'geoCountryName': 'Iran', 'geoCountryUrn': 'urn:li:fs_geo:101934083', 'geoLocationBackfilled': False, 'elt': True, 'industryUrn': 'urn:li:fs_industry:118', 'firstName': 'Fateme', 'entityUrn': 'urn:li:fs_profile:ACoAACYImnsBIVGEIuPbYv4isRQP8Cf4mzswl_A', 'geoLocation': '{\"geoUrn\": \"urn:li:fs_geo:106447486\"}', 'geoLocationName': 'Tehran, Tehran', 'location': '{\"basicLocation\": {\"countryCode\": \"ir\"}}', 'headline': 'Python Developer', 'displayPictureUrl': 'https://media-exp1.licdn.com/dms/image/C4D03AQEOZBCIyip39Q/profile-displayphoto-shrink_', 'img_100_100': '100_100/0/1620020406863?e=1648080000&v=beta&t=zI6Ergbyq7twUH5XT2fSbd6f3J_IcA-nvcdZalhGFIg', 'img_200_200': '200_200/0/1620020406863?e=1648080000&v=beta&t=d6g_SLA4ttAggUJ3MQHficVmPB8cWztp__FDjbLRflc', 'img_400_400': '400_400/0/1620020406863?e=1648080000&v=beta&t=rF39WN2pcOkSheG9DFobju0t_Ke8rEj3S9o7kb7WD2I', 'img_800_800': '800_800/0/1620020406863?e=1648080000&v=beta&t=0jlE9A5WvJ682trbQc1ROW1mKwLcZpMUHuNydQwytsA', 'profile_id': 'ACoAACYImnsBIVGEIuPbYv4isRQP8Cf4mzswl_A', 'profile_urn': 'urn:li:fs_miniProfile:ACoAACYImnsBIVGEIuPbYv4isRQP8Cf4mzswl_A', 'member_urn': 'urn:li:member:638098043', 'experience': [{'companyName': 'Amasys | آماسیس', 'title': 'Data Analyst'}, {'companyName': 'nik naman sarmayeh', 'title': 'Python Developer'}, {'companyName': 'Atitel', 'title': 'Summer Intern'}], 'education': [{'schoolName': 'Semnan University'}, {}], 'languages': [], 'publications': [], 'certifications': [{'authority': 'Coursera', 'name': 'Machine learning'}, {}], 'volunteer': [], 'honors': [], 'date': '2022-01-22T00:38:48Z'}]\n"
     ]
    },
    {
     "name": "stderr",
     "output_type": "stream",
     "text": [
      "INFO:pysolr:Finished 'http://192.168.4.217:8983/solr/person/update/?commit=true' (post) with body '[{\"summary' in 1.044 seconds, with status 200\n"
     ]
    },
    {
     "name": "stdout",
     "output_type": "stream",
     "text": [
      "profile info has successfully indexed\n",
      "program slept\n",
      "program has waken up\n",
      "one profile data has fetched through linkedin API\n"
     ]
    },
    {
     "name": "stderr",
     "output_type": "stream",
     "text": [
      "INFO:pysolr:Finished 'http://192.168.4.217:8983/solr/region/update/?commit=true' (post) with body '[{\"geoLoca' in 0.736 seconds, with status 200\n"
     ]
    },
    {
     "name": "stdout",
     "output_type": "stream",
     "text": [
      "geoLocation has successfully indexed\n",
      "profile data has been successfully processed\n",
      "[{'industryName': 'Computer Software', 'lastName': 'attaran', 'student': False, 'geoCountryName': 'Iran', 'geoCountryUrn': 'urn:li:fs_geo:101934083', 'geoLocationBackfilled': False, 'elt': True, 'industryUrn': 'urn:li:fs_industry:4', 'firstName': 'mina', 'entityUrn': 'urn:li:fs_profile:ACoAADDk_ZEBBTpbW9VAm5Prq2flO6Q9nVb1nP0', 'geoLocation': '{\"geoUrn\": \"urn:li:fs_geo:106447486\"}', 'geoLocationName': 'Tehran, Tehran', 'location': '{\"basicLocation\": {\"countryCode\": \"ir\"}}', 'headline': 'Computer Science student', 'displayPictureUrl': 'https://media-exp1.licdn.com/dms/image/C4D03AQGas75fAtWfww/profile-displayphoto-shrink_', 'img_100_100': '100_100/0/1636624210390?e=1648080000&v=beta&t=_yVsHW5v9IVT0nO6hIgs9RLhharmrwdeauUnAVu2YTY', 'img_200_200': '200_200/0/1636624210390?e=1648080000&v=beta&t=YTHsC1YmHTfFKjyGBb_RCijc1G7tzZ9ec_e2nY2xQBs', 'img_400_400': '400_400/0/1636624210390?e=1648080000&v=beta&t=t3byeIyXfZvwpRwcNfkDQyBzsKmzySRlxGvIGfFKkIo', 'img_800_800': '800_800/0/1636624210390?e=1648080000&v=beta&t=m23FvjOTT2vNkYlUv2Np_SB7D0gYHnUFIwiVxSD5fCg', 'profile_id': 'ACoAADDk_ZEBBTpbW9VAm5Prq2flO6Q9nVb1nP0', 'profile_urn': 'urn:li:fs_miniProfile:ACoAADDk_ZEBBTpbW9VAm5Prq2flO6Q9nVb1nP0', 'member_urn': 'urn:li:member:820313489', 'experience': [{'companyName': 'Alzahra University', 'title': 'Teaching Assistant'}, {}], 'education': [{'schoolName': 'Alzahra University', 'fieldOfStudy': 'Computer Science'}, {}], 'languages': [], 'publications': [], 'certifications': [], 'volunteer': [], 'honors': [], 'date': '2022-01-22T00:39:02Z'}]\n"
     ]
    },
    {
     "name": "stderr",
     "output_type": "stream",
     "text": [
      "INFO:pysolr:Finished 'http://192.168.4.217:8983/solr/person/update/?commit=true' (post) with body '[{\"industr' in 2.052 seconds, with status 200\n"
     ]
    },
    {
     "name": "stdout",
     "output_type": "stream",
     "text": [
      "profile info has successfully indexed\n",
      "program slept\n",
      "program has waken up\n"
     ]
    },
    {
     "name": "stderr",
     "output_type": "stream",
     "text": [
      "INFO:pysolr:Finished 'http://192.168.4.217:8983/solr/profileId/select/?q=%2A%3A%2A&rows=5&start=5&wt=json' (get) with body '' in 0.203 seconds, with status 200\n"
     ]
    },
    {
     "name": "stdout",
     "output_type": "stream",
     "text": [
      "profile ids are retrieved\n",
      "one profile data has fetched through linkedin API\n"
     ]
    },
    {
     "name": "stderr",
     "output_type": "stream",
     "text": [
      "INFO:pysolr:Finished 'http://192.168.4.217:8983/solr/region/update/?commit=true' (post) with body '[{\"geoLoca' in 0.659 seconds, with status 200\n"
     ]
    },
    {
     "name": "stdout",
     "output_type": "stream",
     "text": [
      "geoLocation has successfully indexed\n",
      "profile data has been successfully processed\n",
      "[{'industryName': 'Computer Software', 'lastName': 'Afshani', 'locationName': 'Iran', 'student': False, 'geoCountryName': 'Iran', 'geoCountryUrn': 'urn:li:fs_geo:101934083', 'geoLocationBackfilled': False, 'elt': True, 'industryUrn': 'urn:li:fs_industry:4', 'firstName': 'fatemeh', 'entityUrn': 'urn:li:fs_profile:ACoAACrnjHwBNELw6GEkZtjpJ8JVRt3bjh0XeT4', 'geoLocation': '{\"geoUrn\": \"urn:li:fs_geo:103186832\"}', 'geoLocationName': 'Tehran', 'location': '{\"basicLocation\": {\"countryCode\": \"ir\"}}', 'headline': 'Back End Developer ', 'displayPictureUrl': 'https://media-exp1.licdn.com/dms/image/C4E03AQFXn2q-osY_DQ/profile-displayphoto-shrink_', 'img_100_100': '100_100/0/1633538674357?e=1648080000&v=beta&t=Tcc3z1X4El-s7aC3fmH7GozKnLUyq7dAb2uHEPm81dA', 'img_200_200': '200_200/0/1633538674357?e=1648080000&v=beta&t=e7g96Yx_TIi0ulYVTtPMJIyQuhvPQ-wClwKmB-6-5CQ', 'img_400_400': '400_400/0/1633538674357?e=1648080000&v=beta&t=18mzhPRUyRZ9gZZ1rPoESsTEoPqr4nadA9Eja-7pC5Q', 'img_800_800': '800_800/0/1633538674357?e=1648080000&v=beta&t=XCIa3oQ-GjIAlYBK8ZdH3Olw-glJM2kl5AvOiqpbnzk', 'profile_id': 'ACoAACrnjHwBNELw6GEkZtjpJ8JVRt3bjh0XeT4', 'profile_urn': 'urn:li:fs_miniProfile:ACoAACrnjHwBNELw6GEkZtjpJ8JVRt3bjh0XeT4', 'member_urn': 'urn:li:member:719817852', 'experience': [{'companyName': 'Nahira', 'title': 'Back End Developer'}, {'companyName': 'ToobaTech Company', 'title': 'DevOps Engineer Intern'}], 'education': [{'schoolName': 'Alzahra University', 'fieldOfStudy': 'Computer Software Engineering'}, {}], 'languages': [], 'publications': [], 'certifications': [], 'volunteer': [], 'honors': [], 'date': '2022-01-22T00:39:20Z'}]\n"
     ]
    },
    {
     "name": "stderr",
     "output_type": "stream",
     "text": [
      "INFO:pysolr:Finished 'http://192.168.4.217:8983/solr/person/update/?commit=true' (post) with body '[{\"industr' in 0.964 seconds, with status 200\n"
     ]
    },
    {
     "name": "stdout",
     "output_type": "stream",
     "text": [
      "profile info has successfully indexed\n",
      "program slept\n",
      "program has waken up\n",
      "one profile data has fetched through linkedin API\n"
     ]
    },
    {
     "name": "stderr",
     "output_type": "stream",
     "text": [
      "INFO:pysolr:Finished 'http://192.168.4.217:8983/solr/region/update/?commit=true' (post) with body '[{\"geoLoca' in 0.568 seconds, with status 200\n"
     ]
    },
    {
     "name": "stdout",
     "output_type": "stream",
     "text": [
      "geoLocation has successfully indexed\n",
      "profile data has been successfully processed\n",
      "[{'summary': 'I am Ariga and I am 26 years old when I write this text. I am a Christian and an Armenian, but I was born in Iran. I have spent my school years in special schools for religious minorities. Then I studied at Abrar non-profit university and in the field of computer engineering (software orientation). Since I was very interested in graphic and design work, after graduating from university, I participated in Photoshop classes, design classes with CorelDRAW, as well as site design classes with WordPress. From the very first years of university, I worked for the Armenian Digital Company in parallel with my studies. After graduating from university, I worked for Sahel Airlines for a few months as an employee of the IT department. But since I was interested in doing activities related to the university field and the courses I took, I started my activity as an intern in the DML company. I am currently working as a member of the Front-end team as well as the design team at this company. Given my moral character, I have also been tasked with testing the software. I am accurate, I value time, I value my work too much and unfortunately I am too responsible. I must say that I love painting and in addition to my work, I also take virtual painting classes with a pen. My goal is to grow and improve in my field of work and interests. I hope that the day will come when I will reach great levels in my field of work', 'industryName': 'Computer Software', 'lastName': 'Safaryan', 'locationName': 'Iran', 'student': False, 'geoCountryName': 'Iran', 'geoCountryUrn': 'urn:li:fs_geo:101934083', 'geoLocationBackfilled': False, 'elt': False, 'industryUrn': 'urn:li:fs_industry:4', 'firstName': 'Ariga', 'entityUrn': 'urn:li:fs_profile:ACoAADYYao8BaXP60q61QsjXVjCVYU64XYG3Acs', 'geoLocation': '{\"geoUrn\": \"urn:li:fs_geo:106447486\"}', 'geoLocationName': 'Tehran, Tehran', 'location': '{\"basicLocation\": {\"countryCode\": \"ir\"}}', 'headline': 'Frontend Developer', 'displayPictureUrl': 'https://media-exp1.licdn.com/dms/image/C5603AQEZQwFyHzxunA/profile-displayphoto-shrink_', 'img_100_100': '100_100/0/1633170142074?e=1648080000&v=beta&t=ByCQXvV3B8NmFge4DfQR-VuAjpdth9S8KgGZNdrvwKg', 'img_200_200': '200_200/0/1633170142074?e=1648080000&v=beta&t=ZVVNGuyqv2v_W4B4ceTfK74Ah0NNK7-wDBjyuLGDGKw', 'img_400_400': '400_400/0/1633170142074?e=1648080000&v=beta&t=xQ_loopz8PHQ7VWne5FTyEJkzgYIF4S07VAZaBdKc6Y', 'img_800_800': '800_800/0/1633170142074?e=1648080000&v=beta&t=p-O4-vHkwJCErkLO21AA5Yc76DEewLr2btCeIC7kxvE', 'profile_id': 'ACoAADYYao8BaXP60q61QsjXVjCVYU64XYG3Acs', 'profile_urn': 'urn:li:fs_miniProfile:ACoAADYYao8BaXP60q61QsjXVjCVYU64XYG3Acs', 'member_urn': 'urn:li:member:907569807', 'experience': [{'companyName': 'Data Mining Leaders(DML)', 'title': 'Frontend Developer'}, {'companyName': 'Sahel Gasht travel agency', 'title': 'Information Technology Manager'}, {'companyName': 'Armenian Digital', 'title': 'Assembler'}], 'education': [{'schoolName': 'Abrar', 'fieldOfStudy': 'Computer Software Engineering'}, {}], 'languages': [{'name': 'Armenian', 'proficiency': 'FULL_PROFESSIONAL'}, {'name': 'English'}, {'name': 'Persian'}], 'publications': [], 'certifications': [], 'volunteer': [{'role': 'Students Department Manager', 'companyName': 'Sipan Cultural and Sports Complex', 'timePeriod': {'startDate': {'month': 11, 'year': 2013}}, 'cause': 'EDUCATION', 'description': 'Sipan is a cultural and sports complex for religious minorities (Armenians). This collection has different sections, one of which is the student section. Students of all ages and genders can join this section and engage in various activities. In the meetings held in student groups, various issues including social, historical, cultural, etc. are discussed. The group also runs educational and recreational camps for students. I have been a member of this department since the first year of university and now I am in charge of managing one of these student groups'}, {'role': 'Member', 'companyName': 'Armenian association of University Graduates', 'timePeriod': {'startDate': {'year': 2016}}, 'cause': 'EDUCATION', 'description': 'This cultural complex also hosts Armenian students. Like Sipan, there are several student groups in the complex, each with different activities. I have been a member of this cultural complex since the early years of university'}], 'honors': [], 'date': '2022-01-22T00:39:41Z'}]\n"
     ]
    },
    {
     "name": "stderr",
     "output_type": "stream",
     "text": [
      "INFO:pysolr:Finished 'http://192.168.4.217:8983/solr/person/update/?commit=true' (post) with body '[{\"summary' in 1.155 seconds, with status 200\n"
     ]
    },
    {
     "name": "stdout",
     "output_type": "stream",
     "text": [
      "profile info has successfully indexed\n",
      "program slept\n",
      "program has waken up\n",
      "one profile data has fetched through linkedin API\n"
     ]
    },
    {
     "name": "stderr",
     "output_type": "stream",
     "text": [
      "INFO:pysolr:Finished 'http://192.168.4.217:8983/solr/region/update/?commit=true' (post) with body '[{\"geoLoca' in 0.583 seconds, with status 200\n"
     ]
    },
    {
     "name": "stdout",
     "output_type": "stream",
     "text": [
      "geoLocation has successfully indexed\n",
      "profile data has been successfully processed\n"
     ]
    },
    {
     "name": "stderr",
     "output_type": "stream",
     "text": [
      "INFO:pysolr:Finished 'http://192.168.4.217:8983/solr/person/update/?commit=true' (post) with body '[{\"industr' in 0.126 seconds, with status 400\n",
      "ERROR:pysolr:Solr responded with an error (HTTP 400): [Reason: Error:[doc=259e5856-f695-4fac-98e1-8c4f44a0db70]  Unknown operation for the an atomic update: month]\n"
     ]
    },
    {
     "name": "stdout",
     "output_type": "stream",
     "text": [
      "[{'industryName': 'Computer Software', 'lastName': 'Sarichloo', 'locationName': 'Iran', 'student': False, 'geoCountryName': 'Iran', 'geoCountryUrn': 'urn:li:fs_geo:101934083', 'geoLocationBackfilled': False, 'elt': True, 'birthDate': {'month': 9, 'day': 5}, 'industryUrn': 'urn:li:fs_industry:4', 'firstName': 'Erfaneh', 'entityUrn': 'urn:li:fs_profile:ACoAAC2UGlgBhuo3Z5i-dAd1fjEx7tMjKfs3EGg', 'geoLocation': '{\"geoUrn\": \"urn:li:fs_geo:103186832\"}', 'geoLocationName': 'Tehran', 'location': '{\"basicLocation\": {\"countryCode\": \"ir\"}}', 'headline': 'Web Developer at Anamaka', 'displayPictureUrl': 'https://media-exp1.licdn.com/dms/image/C4D03AQF2BgbvLQrY5w/profile-displayphoto-shrink_', 'img_100_100': '100_100/0/1610246958018?e=1648080000&v=beta&t=iDc5gORe64BZlqT3_HXsgMEwXGqPr5O1BG7Fm2QkTn0', 'img_200_200': '200_200/0/1610246958018?e=1648080000&v=beta&t=LRzBvduUk2Jfcssih5oJS5JR_BoAKzqz7KTMmaDBknQ', 'img_400_400': '400_400/0/1610246958018?e=1648080000&v=beta&t=vr55Z0HEz2J81EvSB2aUc48HUHL9L_pFE24ZtNdTIts', 'img_800_800': '800_800/0/1610246958018?e=1648080000&v=beta&t=qde3Jq3kdVadcGWRDWuX_Av7SMYtA8NV0s6IPh8hHF0', 'profile_id': 'ACoAAC2UGlgBhuo3Z5i-dAd1fjEx7tMjKfs3EGg', 'profile_urn': 'urn:li:fs_miniProfile:ACoAAC2UGlgBhuo3Z5i-dAd1fjEx7tMjKfs3EGg', 'member_urn': 'urn:li:member:764680792', 'experience': [{'companyName': 'ANAMAKA', 'title': 'Web Developer'}, {'companyName': 'Mega Motor Co.', 'title': 'Summer Intern'}], 'education': [{'schoolName': 'Semnan University', 'fieldOfStudy': 'Computer Engineering'}, {}], 'languages': [], 'publications': [], 'certifications': [], 'volunteer': [], 'honors': [], 'date': '2022-01-22T00:39:55Z'}]\n",
      "profile not requested\n",
      "one profile data has fetched through linkedin API\n"
     ]
    },
    {
     "name": "stderr",
     "output_type": "stream",
     "text": [
      "INFO:pysolr:Finished 'http://192.168.4.217:8983/solr/region/update/?commit=true' (post) with body '[{\"geoLoca' in 0.571 seconds, with status 200\n"
     ]
    },
    {
     "name": "stdout",
     "output_type": "stream",
     "text": [
      "geoLocation has successfully indexed\n",
      "profile data has been successfully processed\n"
     ]
    },
    {
     "name": "stderr",
     "output_type": "stream",
     "text": [
      "INFO:pysolr:Finished 'http://192.168.4.217:8983/solr/person/update/?commit=true' (post) with body '[{\"industr' in 0.121 seconds, with status 400\n",
      "ERROR:pysolr:Solr responded with an error (HTTP 400): [Reason: Error:[doc=7f357ad6-1d73-4dff-8d05-92708bf06df7]  Unknown operation for the an atomic update: month]\n"
     ]
    },
    {
     "name": "stdout",
     "output_type": "stream",
     "text": [
      "[{'industryName': 'Computer Software', 'lastName': 'Karimi', 'locationName': 'Iran', 'student': False, 'geoCountryName': 'Iran', 'geoCountryUrn': 'urn:li:fs_geo:101934083', 'geoLocationBackfilled': False, 'elt': False, 'birthDate': {'month': 11, 'day': 18}, 'industryUrn': 'urn:li:fs_industry:4', 'firstName': 'Naeimeh', 'entityUrn': 'urn:li:fs_profile:ACoAADUBr1MBQ1T1lkhAFhaZklewr-8NbUQUC-0', 'geoLocation': '{\"geoUrn\": \"urn:li:fs_geo:106447486\"}', 'geoLocationName': 'Tehran, Tehran', 'location': '{\"basicLocation\": {\"countryCode\": \"ir\"}}', 'headline': 'Frontend Developer', 'displayPictureUrl': 'https://media-exp1.licdn.com/dms/image/C4D03AQH_H3T0itPDrQ/profile-displayphoto-shrink_', 'img_100_100': '100_100/0/1626877780145?e=1648080000&v=beta&t=9Gw4ZU84TUtxrGMlaeMyh-Gs3OUm2p3SvjbC09WZfiQ', 'img_200_200': '200_200/0/1626877780145?e=1648080000&v=beta&t=h_sFi0-e5yEkO1A0LfcXLtlz5oa8tQtza8dxTBGZxkU', 'img_400_400': '400_400/0/1626877780145?e=1648080000&v=beta&t=RZwr0AY9mxAQMlMoaUtrwMulMnAOFjqLYhtChSuExgA', 'img_800_800': '800_800/0/1626877780145?e=1648080000&v=beta&t=mneJ4jaGwQlcrAIMHlfXv9DuIK-ZzMn0Zb-ii9Rm940', 'profile_id': 'ACoAADUBr1MBQ1T1lkhAFhaZklewr-8NbUQUC-0', 'profile_urn': 'urn:li:fs_miniProfile:ACoAADUBr1MBQ1T1lkhAFhaZklewr-8NbUQUC-0', 'member_urn': 'urn:li:member:889302867', 'experience': [{'companyName': 'Tehran Institute of Technology', 'title': 'web development instructor'}, {'companyName': 'Gigasar', 'title': 'Frontend Developer'}, {'companyName': 'Self-employed', 'title': 'Frontend Developer'}], 'education': [{'schoolName': 'Bu-Ali Sina University', 'fieldOfStudy': 'Computer Software Engineering'}, {}], 'languages': [], 'publications': [], 'certifications': [], 'volunteer': [], 'honors': [], 'date': '2022-01-22T00:40:01Z'}]\n",
      "profile not requested\n",
      "one profile data has fetched through linkedin API\n"
     ]
    },
    {
     "name": "stderr",
     "output_type": "stream",
     "text": [
      "INFO:pysolr:Finished 'http://192.168.4.217:8983/solr/region/update/?commit=true' (post) with body '[{\"geoLoca' in 0.545 seconds, with status 200\n"
     ]
    },
    {
     "name": "stdout",
     "output_type": "stream",
     "text": [
      "geoLocation has successfully indexed\n",
      "profile data has been successfully processed\n",
      "[{'industryName': 'Information Technology & Services', 'lastName': 'sadeghi', 'locationName': 'Iran', 'student': False, 'geoCountryName': 'Iran', 'geoCountryUrn': 'urn:li:fs_geo:101934083', 'geoLocationBackfilled': False, 'elt': False, 'industryUrn': 'urn:li:fs_industry:96', 'firstName': 'neda', 'entityUrn': 'urn:li:fs_profile:ACoAABsbWlgBhmHXXtV4U-NkpLNSqKpjI5rzmk0', 'geoLocation': '{\"geoUrn\": \"urn:li:fs_geo:106447486\"}', 'geoLocationName': 'Tehran, Tehran', 'location': '{\"basicLocation\": {\"countryCode\": \"ir\"}}', 'headline': 'Looking for new job', 'displayPictureUrl': 'https://media-exp1.licdn.com/dms/image/C4D35AQEM_StCv-sbSw/profile-framedphoto-shrink_', 'img_200_200': '200_200/0/1598860036593?e=1642888800&v=beta&t=G8guHtjL4SC4dzRaQOXosASWCRsxnirga45t5CXgoK8', 'img_400_400': '400_400/0/1598860036593?e=1642888800&v=beta&t=8_UHXDk42_pccIn4_53OlflgM2WvN3byXSGul2HziNE', 'img_800_800': '800_800/0/1598860036593?e=1642888800&v=beta&t=jjCwKmed_S2myox1dEN-AOtWpKqO4IDHYJBJ22_4qr0', 'img_100_100': '100_100/0/1598860036593?e=1642888800&v=beta&t=iGM9Rh4l-43GEayLFg1y3cAQNKTLh4Ih6y5CObk0Jvs', 'profile_id': 'ACoAABsbWlgBhmHXXtV4U-NkpLNSqKpjI5rzmk0', 'profile_urn': 'urn:li:fs_miniProfile:ACoAABsbWlgBhmHXXtV4U-NkpLNSqKpjI5rzmk0', 'member_urn': 'urn:li:member:454777432', 'experience': [{'companyName': 'تیکت Tik8', 'title': 'Supervisor of team and sales manager'}, {}], 'education': [], 'languages': [], 'publications': [], 'certifications': [], 'volunteer': [], 'honors': [], 'date': '2022-01-22T00:40:07Z'}]\n"
     ]
    },
    {
     "name": "stderr",
     "output_type": "stream",
     "text": [
      "INFO:pysolr:Finished 'http://192.168.4.217:8983/solr/person/update/?commit=true' (post) with body '[{\"industr' in 1.034 seconds, with status 200\n"
     ]
    },
    {
     "name": "stdout",
     "output_type": "stream",
     "text": [
      "profile info has successfully indexed\n",
      "program slept\n",
      "profile not requested\n",
      "user account must be changed\n"
     ]
    },
    {
     "ename": "SystemExit",
     "evalue": "",
     "output_type": "error",
     "traceback": [
      "An exception has occurred, use %tb to see the full traceback.\n",
      "\u001b[1;31mSystemExit\u001b[0m\n"
     ]
    }
   ],
   "source": [
    "querry_acc()\n",
    "login()"
   ]
  },
  {
   "cell_type": "code",
   "execution_count": 69,
   "id": "18e7ed23",
   "metadata": {},
   "outputs": [
    {
     "name": "stderr",
     "output_type": "stream",
     "text": [
      "INFO:pysolr:Finished 'http://192.168.4.217:8983/solr/region/update/?commit=true' (post) with body '[{\"geoLoca' in 0.532 seconds, with status 200\n"
     ]
    },
    {
     "name": "stdout",
     "output_type": "stream",
     "text": [
      "geoLocation has successfully indexed\n",
      "profile data has been successfully processed\n"
     ]
    },
    {
     "name": "stderr",
     "output_type": "stream",
     "text": [
      "INFO:pysolr:Finished 'http://192.168.4.217:8983/solr/person/update/?commit=true' (post) with body '[{\"industr' in 0.708 seconds, with status 200\n"
     ]
    },
    {
     "name": "stdout",
     "output_type": "stream",
     "text": [
      "profile info has successfully indexed\n"
     ]
    },
    {
     "data": {
      "text/plain": [
       "[{'industryName': 'Computer Software',\n",
       "  'lastName': 'st',\n",
       "  'locationName': 'Iran',\n",
       "  'student': False,\n",
       "  'geoCountryName': 'Iran',\n",
       "  'geoCountryUrn': 'urn:li:fs_geo:101934083',\n",
       "  'geoLocationBackfilled': False,\n",
       "  'elt': False,\n",
       "  'industryUrn': 'urn:li:fs_industry:4',\n",
       "  'firstName': 'Zahra',\n",
       "  'entityUrn': 'urn:li:fs_profile:ACoAACT5qBAB71fINA3Wf9at69z4Qja9ugosCmU',\n",
       "  'geoLocation': '{\"geoUrn\": \"urn:li:fs_geo:109197518\"}',\n",
       "  'geoLocationName': 'Sari County, Mazandaran',\n",
       "  'location': '{\"basicLocation\": {\"countryCode\": \"ir\"}}',\n",
       "  'headline': 'BackEnd Developer',\n",
       "  'displayPictureUrl': 'https://media-exp1.licdn.com/dms/image/C4E03AQEBX81LrxLr1Q/profile-displayphoto-shrink_',\n",
       "  'img_100_100': '100_100/0/1641115417403?e=1648080000&v=beta&t=e6FJIDAXwHAGeWs85d0UH41LXHn3Nt9VBw4kc8LT3SE',\n",
       "  'img_200_200': '200_200/0/1641115417403?e=1648080000&v=beta&t=pmhEyzHdEwg_CfZX0SnHsR3-O4efe_R8EEIN4KbANgE',\n",
       "  'img_400_400': '400_400/0/1641115417403?e=1648080000&v=beta&t=tYgKxaPlQ5YqBBFOMa1oDJj9NTwqaaU3WuMhrQbypas',\n",
       "  'img_800_800': '800_800/0/1641115417403?e=1648080000&v=beta&t=BlOHaS7ZuaMX3rVCCTwmH2tTA13_rmuuuft3jsbzkpM',\n",
       "  'profile_id': 'ACoAACT5qBAB71fINA3Wf9at69z4Qja9ugosCmU',\n",
       "  'profile_urn': 'urn:li:fs_miniProfile:ACoAACT5qBAB71fINA3Wf9at69z4Qja9ugosCmU',\n",
       "  'member_urn': 'urn:li:member:620341264',\n",
       "  'experience': [{'companyName': 'university of azad sari',\n",
       "    'title': 'Software Developer'},\n",
       "   {}],\n",
       "  'education': [{'schoolName': 'Islamic Azad University',\n",
       "    'fieldOfStudy': 'Computer Programming'},\n",
       "   {}],\n",
       "  'languages': [],\n",
       "  'publications': [],\n",
       "  'certifications': [],\n",
       "  'volunteer': [],\n",
       "  'honors': [],\n",
       "  'date': '2022-01-22T15:00:01Z'}]"
      ]
     },
     "execution_count": 69,
     "metadata": {},
     "output_type": "execute_result"
    }
   ],
   "source": [
    "# querry_acc\n",
    "# api = Linkedin(accounts[0]['user'], accounts[0]['password'])\n",
    "profile = api.get_profile('zahra-st-954901153')\n",
    "# print('one profile data has fetched through linkedin API')\n",
    "index_region(profile)\n",
    "processed_profile = data_processing(profile)\n",
    "sleep(2)\n",
    "# print(processed_profile)\n",
    "index_profile(processed_profile)\n",
    "processed_profile"
   ]
  },
  {
   "cell_type": "code",
   "execution_count": null,
   "id": "5c7820ba",
   "metadata": {},
   "outputs": [],
   "source": []
  },
  {
   "cell_type": "code",
   "execution_count": 66,
   "id": "12924492",
   "metadata": {},
   "outputs": [],
   "source": [
    "## to check if there is any repeated profile_id\n",
    "with open(\"tehran-pro.json\", \"r\") as f:\n",
    "    dt = json.loads(f.read())\n",
    "    \n",
    "for i in goo:\n",
    "    flag = 0\n",
    "    for j in dt:\n",
    "        if i['public_id'] == j['public_id']:\n",
    "            flag = 1\n",
    "            break\n",
    "    if flag == 0:\n",
    "        dt.append(i)\n",
    "        \n",
    "json_data = json.dumps(dt)\n",
    "\n",
    "## update the json file with new extracted data\n",
    "with open(\"tehran-pro.json\",'w') as f:\n",
    "    f.write(json_data)"
   ]
  },
  {
   "cell_type": "code",
   "execution_count": 78,
   "id": "e941c4bc",
   "metadata": {},
   "outputs": [],
   "source": [
    "## saving the rigion urn id\n",
    "def save_region(goo):\n",
    "    if goo['geoLocation'] and goo['geoLocationName'] is not None:\n",
    "        with open('location.json', 'r+') as rf:\n",
    "            loc = json.loads(rf.read())\n",
    "        if loc is not None:\n",
    "            if goo['geoLocationName'] in loc[0] and goo['geoLocation'] not in loc[0].values():\n",
    "                loc[0][goo['geoLocationName']].append(goo['geoLocation']['geoUrn'].split(':')[3]) \n",
    "            elif  goo['geoLocationName'] not in loc[0]:\n",
    "                loc[0][goo['geoLocationName']]= goo['geoLocation']['geoUrn'].split(':')[3]\n",
    "            else:\n",
    "                pass\n",
    "\n",
    "        with open('location.json', 'w') as wf:\n",
    "            json_data = json.dump(loc, wf)\n",
    "    else:\n",
    "        pass\n",
    "       "
   ]
  },
  {
   "cell_type": "code",
   "execution_count": 14,
   "id": "c007b64a",
   "metadata": {},
   "outputs": [],
   "source": [
    "# with open(\"tehran-pro.json\", \"r\") as f:\n",
    "#     dt = json.loads(f.read())\n",
    "# with open('location.json','w') as file:\n",
    "#     json.dump([{}],file)\n",
    "\n",
    "with open('location.json', 'w') as wf:\n",
    "    json_data = json.dump(loc, wf)\n",
    "\n",
    "index_profiles_id(dt)"
   ]
  },
  {
   "cell_type": "code",
   "execution_count": 3,
   "id": "d26b37c2",
   "metadata": {},
   "outputs": [
    {
     "name": "stdout",
     "output_type": "stream",
     "text": [
      "hello\n",
      "hello-again\n"
     ]
    }
   ],
   "source": [
    "import time\n",
    "print('hello')\n",
    "time.sleep(10)\n",
    "print('hello-again')"
   ]
  },
  {
   "cell_type": "code",
   "execution_count": 114,
   "id": "9dd64c1e",
   "metadata": {},
   "outputs": [],
   "source": [
    "index_region(profile):    \n",
    "    solr = pysolr.Solr(\"http://192.168.4.217:8983/solr/region\", always_commit=True, timeout=100)\n",
    "    \n",
    "    ## to check if the city and geoUrn have indexed or not, then decide to whether update field or add\n",
    "    result = pd.DataFrame(solr.search('*').docs)\n",
    "    if profile['geoLocationName'] in list(result['geoLocationName']) and profile['geoLocation']['geoUrn'].split(':')[3] not in list(result['geoLocation']):\n",
    "        print(list(result['geoLocation']))\n",
    "        solr.add([{\"geoLocationName\": profile['geoLocationName'],\n",
    "                      \"geoLocation\": {\"add\": [profile['geoLocation']['geoUrn'].split(':')[3]] }\n",
    "                }])\n",
    "    elif profile['geoLocationName'] not in list(result['geoLocationName']):\n",
    "        solr.add([{\"geoLocationName\": profile['geoLocationName'],\n",
    "                      \"geoLocation\":  profile['geoLocation']['geoUrn'].split(':')[3] \n",
    "                }])\n",
    "    elif profile['geoLocationName'] in list(result['geoLocationName']) and profile['geoLocation']['geoUrn'].split(':')[3] in list(result['geoLocation']):\n",
    "        pass"
   ]
  },
  {
   "cell_type": "code",
   "execution_count": 47,
   "id": "55e3ca62",
   "metadata": {
    "collapsed": true
   },
   "outputs": [
    {
     "data": {
      "text/plain": [
       "[{'urn_id': 'ACoAABdBEMQBZAF_nGzHDZpIfB498RuqedxjGHk',\n",
       "  'distance': 'DISTANCE_2',\n",
       "  'public_id': 'fahime-firoozpour',\n",
       "  'tracking_id': '390140100'},\n",
       " {'urn_id': 'ACoAADOrA4ABNX2ouTmLFR5wHiOlESLxjrYITrs',\n",
       "  'distance': 'DISTANCE_2',\n",
       "  'public_id': 'sabrina-mokhtari',\n",
       "  'tracking_id': '866845568'},\n",
       " {'urn_id': 'ACoAACOmMJYBbFwZps8cx_Vb98R8C3IqFAEtUYA',\n",
       "  'distance': 'DISTANCE_2',\n",
       "  'public_id': 'hannah-g-246373148',\n",
       "  'tracking_id': '598093974'},\n",
       " {'urn_id': 'ACoAACt21okB46JWVGMZ5KKSNcM2eJyQ6YY9hF8',\n",
       "  'distance': 'DISTANCE_2',\n",
       "  'public_id': 'fateme-alizadeh-775263184',\n",
       "  'tracking_id': '729208457'},\n",
       " {'urn_id': 'ACoAABOHFRgBLMYoGD3wrOKKH-hI-WiAAdlC3cE',\n",
       "  'distance': 'DISTANCE_2',\n",
       "  'public_id': 'sanaztaheri',\n",
       "  'tracking_id': '327619864'},\n",
       " {'urn_id': 'ACoAACrXLloBgGNRfZIza23TptJaG5A4FF6JLCM',\n",
       "  'distance': 'DISTANCE_2',\n",
       "  'public_id': 'mahsagoudarzi',\n",
       "  'tracking_id': '718745178'},\n",
       " {'urn_id': 'ACoAABGGgtgBX1u7oDx1mmL2OL-5nAUf9fIDNQs',\n",
       "  'distance': 'DISTANCE_2',\n",
       "  'public_id': 'farinoosh-kardigar-10857782',\n",
       "  'tracking_id': '294027992'},\n",
       " {'urn_id': 'ACoAAB-TaeoBHP2HaX_nD1O9utYKZwtJIgJx3Z8',\n",
       "  'distance': 'DISTANCE_2',\n",
       "  'public_id': 'nahid-davoodi-b4a4b6129',\n",
       "  'tracking_id': '529754602'},\n",
       " {'urn_id': 'ACoAACbwnN4BvBieRjGujZQsSgioV9Urvb9wuYM',\n",
       "  'distance': 'DISTANCE_2',\n",
       "  'public_id': 'elham-hassani',\n",
       "  'tracking_id': '653303006'},\n",
       " {'urn_id': 'ACoAADKoVKMBGO_37sUBW3Oiliv0pLEyLYbM2oo',\n",
       "  'distance': 'DISTANCE_2',\n",
       "  'public_id': 'zahra-momeneh-b437631b8',\n",
       "  'tracking_id': '849892515'},\n",
       " {'urn_id': 'ACoAAAeJQ9oBA-cZpuHvW42fcNc3zny8iEJkaVo',\n",
       "  'distance': 'DISTANCE_2',\n",
       "  'public_id': 'mary-rahmani',\n",
       "  'tracking_id': '126436314'},\n",
       " {'urn_id': 'ACoAADHDIXYB6L33j0faxxA1c8c7_D69RajPKUg',\n",
       "  'distance': 'DISTANCE_2',\n",
       "  'public_id': 'leila-haghjoo-3b271b1b3',\n",
       "  'tracking_id': '834871670'},\n",
       " {'urn_id': 'ACoAACqk6FQBdtVEW55gu9wR1CAcvv1ej_n0WYU',\n",
       "  'distance': 'DISTANCE_2',\n",
       "  'public_id': 'sara-asgari-9b072917b',\n",
       "  'tracking_id': '715450452'},\n",
       " {'urn_id': 'ACoAACjWq6cBN5EK3vJ2AXo8GDSN1xyzO_n3soY',\n",
       "  'distance': 'DISTANCE_2',\n",
       "  'public_id': 'farzaneh-j-08755b171',\n",
       "  'tracking_id': '685157287'},\n",
       " {'urn_id': 'ACoAABCanoUBb74ht2Vy1TCb6s2q7l8YzI89vn8',\n",
       "  'distance': 'DISTANCE_2',\n",
       "  'public_id': 'nooshin-mahmoodi',\n",
       "  'tracking_id': '278568581'},\n",
       " {'urn_id': 'ACoAADaLnqYBZcVsvJELfkLCd5ZwHK4zaerlsxk',\n",
       "  'distance': 'DISTANCE_2',\n",
       "  'public_id': 'mohammad-javad-maheronnaghsh-25a57b216',\n",
       "  'tracking_id': '915119782'},\n",
       " {'urn_id': 'ACoAABTjgtYBEJwmeiWE418GV7rkeMtUCqqnZhU',\n",
       "  'distance': 'DISTANCE_2',\n",
       "  'public_id': 'fateme-ghovati-38644999',\n",
       "  'tracking_id': '350454486'}]"
      ]
     },
     "execution_count": 47,
     "metadata": {},
     "output_type": "execute_result"
    }
   ],
   "source": [
    "<field name=\"id\" type=\"string\" indexed=\"true\" stored=\"true\" required=\"true\" multiValued=\"false\" />\n",
    "\n"
   ]
  },
  {
   "cell_type": "code",
   "execution_count": null,
   "id": "febebb14",
   "metadata": {},
   "outputs": [],
   "source": [
    "\"lastName\": profile['lastName'],\n",
    "              \"entityUrn\": profile['entityUrn'],\n",
    "              \"firstName\":profile['firstName'],"
   ]
  }
 ],
 "metadata": {
  "kernelspec": {
   "display_name": "Python 3",
   "language": "python",
   "name": "python3"
  },
  "language_info": {
   "codemirror_mode": {
    "name": "ipython",
    "version": 3
   },
   "file_extension": ".py",
   "mimetype": "text/x-python",
   "name": "python",
   "nbconvert_exporter": "python",
   "pygments_lexer": "ipython3",
   "version": "3.9.5"
  }
 },
 "nbformat": 4,
 "nbformat_minor": 5
}
